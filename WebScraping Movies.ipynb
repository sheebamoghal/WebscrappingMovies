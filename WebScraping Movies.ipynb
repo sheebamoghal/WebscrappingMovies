{
 "cells": [
  {
   "cell_type": "markdown",
   "id": "be0f640a",
   "metadata": {},
   "source": [
    "# Web Scraping of IMDB Movies"
   ]
  },
  {
   "cell_type": "markdown",
   "id": "3a274180",
   "metadata": {},
   "source": [
    "Purpose: Being the most ardent fan of Movies in general, with India eventually warming up to winning accolades for movies such as Bahubali or Puspa at an increasing level, it seemed like an interesting option to scrape data from."
   ]
  },
  {
   "cell_type": "markdown",
   "id": "7b9cd750",
   "metadata": {},
   "source": [
    "# Importing Required Libraries"
   ]
  },
  {
   "cell_type": "code",
   "execution_count": 1,
   "id": "11d3c666",
   "metadata": {},
   "outputs": [],
   "source": [
    "import pandas as pd\n",
    "import numpy as np\n",
    "\n",
    "import requests\n",
    "from requests import get\n",
    "from bs4 import BeautifulSoup\n",
    "\n",
    "from time import sleep\n",
    "from random import randint"
   ]
  },
  {
   "cell_type": "markdown",
   "id": "3aaf4be4",
   "metadata": {},
   "source": [
    "# Scraping from web page"
   ]
  },
  {
   "cell_type": "code",
   "execution_count": 2,
   "id": "37493974",
   "metadata": {},
   "outputs": [],
   "source": [
    "# Creating the lists we want to write into\n",
    "titles = []\n",
    "years = []\n",
    "time = []\n",
    "imdb_ratings = []\n",
    "metascores = []\n",
    "votes = []\n",
    "us_gross = []"
   ]
  },
  {
   "cell_type": "code",
   "execution_count": 3,
   "id": "260c3cb6",
   "metadata": {},
   "outputs": [],
   "source": [
    "# Getting English translated titles from the movies\n",
    "headers = {'Accept-Language': 'en-US, en;q=0.5'}"
   ]
  },
  {
   "cell_type": "markdown",
   "id": "4a3e3b20",
   "metadata": {},
   "source": [
    "# Creating Object of Beautiful Soup"
   ]
  },
  {
   "cell_type": "code",
   "execution_count": 4,
   "id": "0cc773bf",
   "metadata": {},
   "outputs": [
    {
     "data": {
      "text/plain": [
       "array([1])"
      ]
     },
     "execution_count": 4,
     "metadata": {},
     "output_type": "execute_result"
    }
   ],
   "source": [
    "pages = np.arange(1, 51, 50)\n",
    "pages"
   ]
  },
  {
   "cell_type": "code",
   "execution_count": 5,
   "id": "a3666557",
   "metadata": {},
   "outputs": [],
   "source": [
    "# Storing each of the urls of 50 movies \n",
    "for page in pages:\n",
    "    # Getting the contents from the each url\n",
    "    page = requests.get('https://www.imdb.com/search/title/?groups=top_1000&start=' + str(page) + '&ref_=adv_nxt', headers=headers)\n",
    "    soup = BeautifulSoup(page.text, 'html.parser')\n",
    "    \n",
    "    # Aiming the part of the html we want to get the information from\n",
    "    movie_div = soup.find_all('div', class_='lister-item mode-advanced')\n",
    "    \n",
    "    # Controling the loop’s rate by pausing the execution of the loop for a specified amount of time\n",
    "    # Waiting time between requests for a number between 2-10 seconds\n",
    "    sleep(randint(2,10))\n",
    "    \n",
    "    for container in movie_div:\n",
    "        # Scraping the movie's name\n",
    "        name = container.h3.a.text\n",
    "        titles.append(name)\n",
    "        \n",
    "        # Scraping the movie's year\n",
    "        year = container.h3.find('span', class_='lister-item-year').text\n",
    "        years.append(year)\n",
    "        \n",
    "        # Scraping the movie's length\n",
    "        runtime = container.find('span', class_='runtime').text if container.p.find('span', class_='runtime') else '-'\n",
    "        time.append(runtime)\n",
    "        \n",
    "        # Scraping the rating\n",
    "        imdb = float(container.strong.text)\n",
    "        imdb_ratings.append(imdb)\n",
    "        \n",
    "        # Scraping the metascore\n",
    "        m_score = container.find('span', class_='metascore').text if container.find('span', class_='metascore') else '-'\n",
    "        metascores.append(m_score)\n",
    "        \n",
    "        # Scraping votes and gross earnings\n",
    "        nv = container.find_all('span', attrs={'name':'nv'})\n",
    "        vote = nv[0].text\n",
    "        votes.append(vote)\n",
    "        grosses = nv[1].text if len(nv) > 1 else '-'\n",
    "        us_gross.append(grosses)"
   ]
  },
  {
   "cell_type": "raw",
   "id": "d3d70d29",
   "metadata": {},
   "source": [
    "# Creating the Dataset"
   ]
  },
  {
   "cell_type": "code",
   "execution_count": 7,
   "id": "f3ed1c10",
   "metadata": {},
   "outputs": [
    {
     "data": {
      "text/html": [
       "<div>\n",
       "<style scoped>\n",
       "    .dataframe tbody tr th:only-of-type {\n",
       "        vertical-align: middle;\n",
       "    }\n",
       "\n",
       "    .dataframe tbody tr th {\n",
       "        vertical-align: top;\n",
       "    }\n",
       "\n",
       "    .dataframe thead th {\n",
       "        text-align: right;\n",
       "    }\n",
       "</style>\n",
       "<table border=\"1\" class=\"dataframe\">\n",
       "  <thead>\n",
       "    <tr style=\"text-align: right;\">\n",
       "      <th></th>\n",
       "      <th>movie</th>\n",
       "      <th>year</th>\n",
       "      <th>time_minute</th>\n",
       "      <th>imdb_rating</th>\n",
       "      <th>metascore</th>\n",
       "      <th>vote</th>\n",
       "      <th>gross_earning</th>\n",
       "    </tr>\n",
       "  </thead>\n",
       "  <tbody>\n",
       "    <tr>\n",
       "      <th>0</th>\n",
       "      <td>Top Gun: Maverick</td>\n",
       "      <td>(2022)</td>\n",
       "      <td>130 min</td>\n",
       "      <td>8.4</td>\n",
       "      <td>78</td>\n",
       "      <td>401,478</td>\n",
       "      <td>#78</td>\n",
       "    </tr>\n",
       "    <tr>\n",
       "      <th>1</th>\n",
       "      <td>Halloween</td>\n",
       "      <td>(1978)</td>\n",
       "      <td>91 min</td>\n",
       "      <td>7.7</td>\n",
       "      <td>87</td>\n",
       "      <td>275,013</td>\n",
       "      <td>$47.00M</td>\n",
       "    </tr>\n",
       "    <tr>\n",
       "      <th>2</th>\n",
       "      <td>Everything Everywhere All at Once</td>\n",
       "      <td>(2022)</td>\n",
       "      <td>139 min</td>\n",
       "      <td>8.1</td>\n",
       "      <td>81</td>\n",
       "      <td>221,766</td>\n",
       "      <td>#213</td>\n",
       "    </tr>\n",
       "    <tr>\n",
       "      <th>3</th>\n",
       "      <td>The Lord of the Rings: The Fellowship of the Ring</td>\n",
       "      <td>(2001)</td>\n",
       "      <td>178 min</td>\n",
       "      <td>8.8</td>\n",
       "      <td>92</td>\n",
       "      <td>1,854,300</td>\n",
       "      <td>$315.54M</td>\n",
       "    </tr>\n",
       "    <tr>\n",
       "      <th>4</th>\n",
       "      <td>Harry Potter and the Sorcerer's Stone</td>\n",
       "      <td>(2001)</td>\n",
       "      <td>152 min</td>\n",
       "      <td>7.6</td>\n",
       "      <td>65</td>\n",
       "      <td>770,346</td>\n",
       "      <td>$317.58M</td>\n",
       "    </tr>\n",
       "  </tbody>\n",
       "</table>\n",
       "</div>"
      ],
      "text/plain": [
       "                                               movie    year time_minute  \\\n",
       "0                                  Top Gun: Maverick  (2022)     130 min   \n",
       "1                                          Halloween  (1978)      91 min   \n",
       "2                  Everything Everywhere All at Once  (2022)     139 min   \n",
       "3  The Lord of the Rings: The Fellowship of the Ring  (2001)     178 min   \n",
       "4              Harry Potter and the Sorcerer's Stone  (2001)     152 min   \n",
       "\n",
       "   imdb_rating   metascore       vote gross_earning  \n",
       "0          8.4  78            401,478           #78  \n",
       "1          7.7  87            275,013       $47.00M  \n",
       "2          8.1  81            221,766          #213  \n",
       "3          8.8  92          1,854,300      $315.54M  \n",
       "4          7.6  65            770,346      $317.58M  "
      ]
     },
     "execution_count": 7,
     "metadata": {},
     "output_type": "execute_result"
    }
   ],
   "source": [
    "movies = pd.DataFrame({'movie':titles,\n",
    "                       'year':years,\n",
    "                       'time_minute':time,\n",
    "                       'imdb_rating':imdb_ratings,\n",
    "                       'metascore':metascores,\n",
    "                       'vote':votes,\n",
    "                       'gross_earning':us_gross})\n",
    "\n",
    "movies.head()"
   ]
  },
  {
   "cell_type": "code",
   "execution_count": 8,
   "id": "04cf6758",
   "metadata": {},
   "outputs": [
    {
     "data": {
      "text/plain": [
       "movie             object\n",
       "year              object\n",
       "time_minute       object\n",
       "imdb_rating      float64\n",
       "metascore         object\n",
       "vote              object\n",
       "gross_earning     object\n",
       "dtype: object"
      ]
     },
     "execution_count": 8,
     "metadata": {},
     "output_type": "execute_result"
    }
   ],
   "source": [
    "movies.dtypes"
   ]
  },
  {
   "cell_type": "markdown",
   "id": "7690ecea",
   "metadata": {},
   "source": [
    "# Cleaning the dataset"
   ]
  },
  {
   "cell_type": "code",
   "execution_count": 9,
   "id": "d96ecf7a",
   "metadata": {},
   "outputs": [
    {
     "data": {
      "text/html": [
       "<div>\n",
       "<style scoped>\n",
       "    .dataframe tbody tr th:only-of-type {\n",
       "        vertical-align: middle;\n",
       "    }\n",
       "\n",
       "    .dataframe tbody tr th {\n",
       "        vertical-align: top;\n",
       "    }\n",
       "\n",
       "    .dataframe thead th {\n",
       "        text-align: right;\n",
       "    }\n",
       "</style>\n",
       "<table border=\"1\" class=\"dataframe\">\n",
       "  <thead>\n",
       "    <tr style=\"text-align: right;\">\n",
       "      <th></th>\n",
       "      <th>movie</th>\n",
       "      <th>year</th>\n",
       "      <th>time_minute</th>\n",
       "      <th>imdb_rating</th>\n",
       "      <th>metascore</th>\n",
       "      <th>vote</th>\n",
       "      <th>gross_earning</th>\n",
       "    </tr>\n",
       "  </thead>\n",
       "  <tbody>\n",
       "    <tr>\n",
       "      <th>0</th>\n",
       "      <td>Top Gun: Maverick</td>\n",
       "      <td>2022</td>\n",
       "      <td>130 min</td>\n",
       "      <td>8.4</td>\n",
       "      <td>78</td>\n",
       "      <td>401,478</td>\n",
       "      <td>#78</td>\n",
       "    </tr>\n",
       "    <tr>\n",
       "      <th>1</th>\n",
       "      <td>Halloween</td>\n",
       "      <td>1978</td>\n",
       "      <td>91 min</td>\n",
       "      <td>7.7</td>\n",
       "      <td>87</td>\n",
       "      <td>275,013</td>\n",
       "      <td>$47.00M</td>\n",
       "    </tr>\n",
       "    <tr>\n",
       "      <th>2</th>\n",
       "      <td>Everything Everywhere All at Once</td>\n",
       "      <td>2022</td>\n",
       "      <td>139 min</td>\n",
       "      <td>8.1</td>\n",
       "      <td>81</td>\n",
       "      <td>221,766</td>\n",
       "      <td>#213</td>\n",
       "    </tr>\n",
       "  </tbody>\n",
       "</table>\n",
       "</div>"
      ],
      "text/plain": [
       "                               movie  year time_minute  imdb_rating  \\\n",
       "0                  Top Gun: Maverick  2022     130 min          8.4   \n",
       "1                          Halloween  1978      91 min          7.7   \n",
       "2  Everything Everywhere All at Once  2022     139 min          8.1   \n",
       "\n",
       "    metascore     vote gross_earning  \n",
       "0  78          401,478           #78  \n",
       "1  87          275,013       $47.00M  \n",
       "2  81          221,766          #213  "
      ]
     },
     "execution_count": 9,
     "metadata": {},
     "output_type": "execute_result"
    }
   ],
   "source": [
    "# Cleaning 'year' column\n",
    "movies['year'] = movies['year'].str.extract('(\\d+)').astype(int)\n",
    "movies.head(3)"
   ]
  },
  {
   "cell_type": "code",
   "execution_count": null,
   "id": "57551b97",
   "metadata": {},
   "outputs": [],
   "source": [
    "# Checking for missing values\n",
    "final_df.isna().sum()"
   ]
  },
  {
   "cell_type": "code",
   "execution_count": null,
   "id": "5cc50d0a",
   "metadata": {},
   "outputs": [],
   "source": [
    "# To find any duplicat values\n",
    "final_df.duplicated()"
   ]
  },
  {
   "cell_type": "markdown",
   "id": "ead8df6c",
   "metadata": {},
   "source": [
    "# Saving to CSV Format"
   ]
  },
  {
   "cell_type": "code",
   "execution_count": null,
   "id": "8db01e97",
   "metadata": {},
   "outputs": [],
   "source": [
    "dataset.to_csv(\"Olympic Games medal Dataset(from 1896 to 2022).csv\",index=False)"
   ]
  }
 ],
 "metadata": {
  "kernelspec": {
   "display_name": "Python 3 (ipykernel)",
   "language": "python",
   "name": "python3"
  },
  "language_info": {
   "codemirror_mode": {
    "name": "ipython",
    "version": 3
   },
   "file_extension": ".py",
   "mimetype": "text/x-python",
   "name": "python",
   "nbconvert_exporter": "python",
   "pygments_lexer": "ipython3",
   "version": "3.9.12"
  }
 },
 "nbformat": 4,
 "nbformat_minor": 5
}
